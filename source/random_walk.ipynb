{
 "cells": [
  {
   "cell_type": "markdown",
   "metadata": {},
   "source": [
    "# Random walk statistics"
   ]
  },
  {
   "cell_type": "code",
   "execution_count": 1,
   "metadata": {},
   "outputs": [],
   "source": [
    "import subprocess\n",
    "from pathlib import Path \n",
    "\n",
    "import pylab \n",
    "import numpy as np\n",
    "from matplotlib import pyplot as plt\n",
    "import seaborn as sns \n",
    "\n",
    "sns.set()"
   ]
  },
  {
   "cell_type": "code",
   "execution_count": 4,
   "metadata": {},
   "outputs": [],
   "source": [
    "extension = \"dat\"\n",
    "\n",
    "data = None\n",
    "\n",
    "for _file in Path(\"./output\").glob(f\"**/*.{extension}\"):\n",
    "    # print(_file.absolute().name)   \n",
    "    data = _file.read_text()\n",
    "\n",
    "# data = Path(\"data.dat\").read_text()\n",
    "\n",
    "# datas = [_ for _ in data.split(\"---\") if _ != '\\n']\n",
    "# walk1 = [walk for walk in [line.split(\"|\") for line in [_ for _ in datas[0].split(\"\\n\")] if line != \"\"]]"
   ]
  },
  {
   "cell_type": "code",
   "execution_count": 6,
   "metadata": {},
   "outputs": [],
   "source": [
    "# ts = [_[0] for _ in walk1]\n",
    "# xs = [_[1] for _ in walk1]\n",
    "# ys = [_[2] for _ in walk1]"
   ]
  }
 ],
 "metadata": {
  "interpreter": {
   "hash": "34ab8ac89778ab8fe8ff7aa54ab9a9917ebee9cf8f50d39943c6b593feb4e3ab"
  },
  "kernelspec": {
   "display_name": "Python 3.10.0 64-bit ('.venv': venv)",
   "name": "python3"
  },
  "language_info": {
   "codemirror_mode": {
    "name": "ipython",
    "version": 3
   },
   "file_extension": ".py",
   "mimetype": "text/x-python",
   "name": "python",
   "nbconvert_exporter": "python",
   "pygments_lexer": "ipython3",
   "version": "3.10.0"
  },
  "orig_nbformat": 4
 },
 "nbformat": 4,
 "nbformat_minor": 2
}
